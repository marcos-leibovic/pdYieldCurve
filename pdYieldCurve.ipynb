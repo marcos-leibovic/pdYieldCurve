{
 "cells": [
  {
   "cell_type": "code",
   "execution_count": 1,
   "id": "78709284",
   "metadata": {},
   "outputs": [
    {
     "data": {
      "text/plain": [
       "0    1\n",
       "1    2\n",
       "2    3\n",
       "dtype: int64"
      ]
     },
     "execution_count": 1,
     "metadata": {},
     "output_type": "execute_result"
    }
   ],
   "source": [
    "import pandas as pd\n",
    "obj = pd.Series([1,2,3])\n",
    "obj"
   ]
  },
  {
   "cell_type": "code",
   "execution_count": 91,
   "id": "bfc64723",
   "metadata": {
    "scrolled": true
   },
   "outputs": [
    {
     "name": "stdout",
     "output_type": "stream",
     "text": [
      "          date    m1    m2    m3    m4    m6    y1    y2    y3    y5    y7  \\\n",
      "0   09/25/2023  5.54  5.58  5.58  5.60  5.52  5.45  5.09  4.83  4.62  4.61   \n",
      "1   09/22/2023  5.52  5.58  5.56  5.61  5.52  5.46  5.10  4.80  4.57  4.53   \n",
      "2   09/21/2023  5.52  5.57  5.57  5.61  5.52  5.46  5.12  4.85  4.61  4.57   \n",
      "3   09/20/2023  5.53  5.57  5.56  5.61  5.51  5.47  5.12  4.82  4.52  4.46   \n",
      "4   09/19/2023  5.53  5.56  5.54  5.59  5.51  5.45  5.08  4.79  4.51  4.47   \n",
      "5   09/18/2023  5.53  5.56  5.55  5.60  5.51  5.44  5.05  4.74  4.46  4.41   \n",
      "6   09/15/2023  5.51  5.56  5.56  5.60  5.49  5.43  5.02  4.72  4.45  4.41   \n",
      "7   09/14/2023  5.52  5.57  5.55  5.59  5.50  5.42  5.00  4.68  4.42  4.38   \n",
      "8   09/13/2023  5.53  5.56  5.55  5.60  5.51  5.42  4.96  4.64  4.39  4.34   \n",
      "9   09/12/2023  5.52  5.56  5.56  5.58  5.53  5.42  4.98  4.66  4.41  4.36   \n",
      "10  09/11/2023  5.52  5.56  5.55  5.58  5.51  5.40  4.97  4.64  4.40  4.37   \n",
      "11  09/08/2023  5.52  5.56  5.55  5.60  5.49  5.42  4.98  4.68  4.39  4.35   \n",
      "12  09/07/2023  5.52  5.56  5.53  5.59  5.50  5.40  4.94  4.66  4.38  4.35   \n",
      "13  09/06/2023  5.52  5.55  5.55  5.60  5.52  5.44  5.01  4.73  4.44  4.39   \n",
      "14  09/05/2023  5.51  5.56  5.55  5.59  5.51  5.42  4.94  4.65  4.37  4.35   \n",
      "15  09/01/2023  5.51  5.55  5.53  5.58  5.47  5.36  4.87  4.57  4.29  4.27   \n",
      "\n",
      "     y10   y20   y30  \n",
      "0   4.55  4.84  4.67  \n",
      "1   4.44  4.70  4.53  \n",
      "2   4.49  4.74  4.56  \n",
      "3   4.35  4.57  4.40  \n",
      "4   4.37  4.60  4.43  \n",
      "5   4.32  4.57  4.40  \n",
      "6   4.33  4.59  4.42  \n",
      "7   4.29  4.57  4.39  \n",
      "8   4.25  4.52  4.34  \n",
      "9   4.27  4.54  4.35  \n",
      "10  4.29  4.56  4.37  \n",
      "11  4.26  4.52  4.33  \n",
      "12  4.27  4.55  4.36  \n",
      "13  4.30  4.56  4.37  \n",
      "14  4.27  4.56  4.38  \n",
      "15  4.18  4.48  4.29  \n"
     ]
    }
   ],
   "source": [
    "import numpy as np\n",
    "import matplotlib.pyplot as plt\n",
    "import pandas as pd\n",
    "headers=['date','m1','m2','m3','m4','m6','y1','y2','y3','y5','y7','y10','y20','y30']\n",
    "temp = pd.read_csv(\"Desktop/daily_treasury_rates.csv\",header=0,\n",
    "       names=headers,         \n",
    "       skiprows=1,\n",
    "       decimal='.')\n",
    "print(temp)\n"
   ]
  },
  {
   "cell_type": "code",
   "execution_count": null,
   "id": "fa525299",
   "metadata": {},
   "outputs": [],
   "source": [
    "\n"
   ]
  },
  {
   "cell_type": "code",
   "execution_count": 175,
   "id": "37e9e2b1",
   "metadata": {},
   "outputs": [
    {
     "name": "stdout",
     "output_type": "stream",
     "text": [
      "        date    m1    m2    m3    m4    m6    y1    y2    y3    y5    y7  \\\n",
      "0 2023-09-26  5.54  5.58  5.58  5.61  5.53  5.45  5.04  4.84  4.62  4.62   \n",
      "1 2023-09-25  5.54  5.58  5.58  5.60  5.52  5.45  5.09  4.83  4.62  4.61   \n",
      "2 2023-09-22  5.52  5.58  5.56  5.61  5.52  5.46  5.10  4.80  4.57  4.53   \n",
      "3 2023-09-21  5.52  5.57  5.57  5.61  5.52  5.46  5.12  4.85  4.61  4.57   \n",
      "4 2023-09-20  5.53  5.57  5.56  5.61  5.51  5.47  5.12  4.82  4.52  4.46   \n",
      "\n",
      "    y10   y20   y30  \n",
      "0  4.56  4.86  4.70  \n",
      "1  4.55  4.84  4.67  \n",
      "2  4.44  4.70  4.53  \n",
      "3  4.49  4.74  4.56  \n",
      "4  4.35  4.57  4.40  \n",
      "5.54\n",
      "[5.54, None, 5.54, 5.54]\n"
     ]
    }
   ],
   "source": [
    "import numpy as np\n",
    "import matplotlib.pyplot as plt\n",
    "import pandas as pd\n",
    "temp = pd.read_csv(\"Desktop/daily_treasury_rates.csv\",header=0,\n",
    "       names=headers,         \n",
    "       nrows=5,            \n",
    "       decimal='.')\n",
    "index = temp.index;\n",
    "date=temp.date\n",
    "m1=temp.m1\n",
    "m2=temp.m2\n",
    "m3=temp.m3\n",
    "m4=temp.m4\n",
    "m6=temp.m6\n",
    "y1=temp.y1\n",
    "y2=temp.y2\n",
    "y3=temp.y3\n",
    "y5=temp.y5\n",
    "y7=temp.y7\n",
    "y10=temp.y10\n",
    "y20=temp.y20\n",
    "y30=temp.y30\n",
    "\n",
    "#covert date format to datetime\n",
    "temp['date'] = pd.to_datetime(temp['date'])\n",
    "\n",
    "temp = temp.reindex(axis=1)\n",
    "print(temp)\n",
    "print(m1[1])\n",
    "#temp.plot()\n",
    "\n",
    "y_curve[1]= y_curve.append(m1[1])\n",
    "print(y_curve)\n"
   ]
  },
  {
   "cell_type": "code",
   "execution_count": null,
   "id": "1aa2a8f8",
   "metadata": {},
   "outputs": [],
   "source": []
  },
  {
   "cell_type": "code",
   "execution_count": null,
   "id": "6640091d",
   "metadata": {},
   "outputs": [],
   "source": []
  },
  {
   "cell_type": "code",
   "execution_count": 18,
   "id": "c405d859",
   "metadata": {},
   "outputs": [
    {
     "name": "stdout",
     "output_type": "stream",
     "text": [
      "Date  2023-09-26  2023-09-25\n",
      "m1          5.54        5.54\n",
      "m2          5.58        5.58\n",
      "m3          5.58        5.58\n",
      "m4          5.61        5.60\n",
      "m6          5.53        5.52\n",
      "y1          5.45        5.45\n",
      "y2          5.04        5.09\n",
      "y3          4.84        4.83\n",
      "y5          4.62        4.62\n",
      "y7          4.62        4.61\n",
      "y10         4.56        4.55\n",
      "y20         4.86        4.84\n",
      "y30         4.70        4.67\n"
     ]
    },
    {
     "data": {
      "image/png": "[encoded data removed]",
      "text/plain": [
       "<Figure size 432x288 with 1 Axes>"
      ]
     },
     "metadata": {
      "needs_background": "light"
     },
     "output_type": "display_data"
    }
   ],
   "source": [
    "import numpy as np\n",
    "import matplotlib.pyplot as plt\n",
    "import pandas as pd\n",
    "#Treasury Data\n",
    "#https://home.treasury.gov/resource-center/data-chart-center/interest-rates/\n",
    "#TextView?type=daily_treasury_yield_curve&field_tdr_date_value_month=202310\n",
    "#tinyurl\n",
    "#https://tinyurl.com/mpc2etak\n",
    "\n",
    "#read in csv download from local\n",
    "\n",
    "headers=['Date','m1','m2','m3','m4','m6','y1','y2','y3','y5','y7','y10','y20','y30']\n",
    "temp = pd.read_csv(\"Desktop/daily_treasury_rates.csv\",header=0,\n",
    "       names=headers,         \n",
    "       nrows=2,   \n",
    "       decimal='.')\n",
    "\n",
    "#setting the datetime format for Date\n",
    "temp[\"Date\"] = temp[\"Date\"].astype(\"datetime64\")\n",
    "#indexing on Date\n",
    "temp = temp.set_index(\"Date\")\n",
    "#Transpose\n",
    "temp = temp.T\n",
    "#validate data\n",
    "print(temp)\n",
    "#plot\n",
    "plot = temp.plot()"
   ]
  },
  {
   "cell_type": "code",
   "execution_count": null,
   "id": "2531e84d",
   "metadata": {},
   "outputs": [],
   "source": []
  }
 ],
 "metadata": {
  "kernelspec": {
   "display_name": "Python 3",
   "language": "python",
   "name": "python3"
  },
  "language_info": {
   "codemirror_mode": {
    "name": "ipython",
    "version": 3
   },
   "file_extension": ".py",
   "mimetype": "text/x-python",
   "name": "python",
   "nbconvert_exporter": "python",
   "pygments_lexer": "ipython3",
   "version": "3.8.8"
  }
 },
 "nbformat": 4,
 "nbformat_minor": 5
}
